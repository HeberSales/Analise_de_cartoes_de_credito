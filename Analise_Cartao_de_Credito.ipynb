{
 "cells": [
  {
   "cell_type": "markdown",
   "id": "c2ce5701",
   "metadata": {},
   "source": [
    "# Analisando dados de Gastos com Cartão de Crédito na India"
   ]
  },
  {
   "cell_type": "markdown",
   "id": "55dac91b",
   "metadata": {},
   "source": [
    "### Objetivo:\n",
    "    "
   ]
  },
  {
   "cell_type": "code",
   "execution_count": 106,
   "id": "cb0f1d2c",
   "metadata": {},
   "outputs": [],
   "source": [
    "#importando as bibliotecas necessárias\n",
    "\n",
    "import pandas as pd\n",
    "import matplotlib.pyplot as plt"
   ]
  },
  {
   "cell_type": "code",
   "execution_count": 107,
   "id": "c681ce59",
   "metadata": {},
   "outputs": [
    {
     "data": {
      "text/html": [
       "<div>\n",
       "<style scoped>\n",
       "    .dataframe tbody tr th:only-of-type {\n",
       "        vertical-align: middle;\n",
       "    }\n",
       "\n",
       "    .dataframe tbody tr th {\n",
       "        vertical-align: top;\n",
       "    }\n",
       "\n",
       "    .dataframe thead th {\n",
       "        text-align: right;\n",
       "    }\n",
       "</style>\n",
       "<table border=\"1\" class=\"dataframe\">\n",
       "  <thead>\n",
       "    <tr style=\"text-align: right;\">\n",
       "      <th></th>\n",
       "      <th>index</th>\n",
       "      <th>City</th>\n",
       "      <th>Date</th>\n",
       "      <th>Card Type</th>\n",
       "      <th>Exp Type</th>\n",
       "      <th>Gender</th>\n",
       "      <th>Amount</th>\n",
       "    </tr>\n",
       "  </thead>\n",
       "  <tbody>\n",
       "    <tr>\n",
       "      <th>0</th>\n",
       "      <td>0</td>\n",
       "      <td>Delhi, India</td>\n",
       "      <td>29-Oct-14</td>\n",
       "      <td>Gold</td>\n",
       "      <td>Bills</td>\n",
       "      <td>F</td>\n",
       "      <td>82475</td>\n",
       "    </tr>\n",
       "    <tr>\n",
       "      <th>1</th>\n",
       "      <td>1</td>\n",
       "      <td>Greater Mumbai, India</td>\n",
       "      <td>22-Aug-14</td>\n",
       "      <td>Platinum</td>\n",
       "      <td>Bills</td>\n",
       "      <td>F</td>\n",
       "      <td>32555</td>\n",
       "    </tr>\n",
       "    <tr>\n",
       "      <th>2</th>\n",
       "      <td>2</td>\n",
       "      <td>Bengaluru, India</td>\n",
       "      <td>27-Aug-14</td>\n",
       "      <td>Silver</td>\n",
       "      <td>Bills</td>\n",
       "      <td>F</td>\n",
       "      <td>101738</td>\n",
       "    </tr>\n",
       "    <tr>\n",
       "      <th>3</th>\n",
       "      <td>3</td>\n",
       "      <td>Greater Mumbai, India</td>\n",
       "      <td>12-Apr-14</td>\n",
       "      <td>Signature</td>\n",
       "      <td>Bills</td>\n",
       "      <td>F</td>\n",
       "      <td>123424</td>\n",
       "    </tr>\n",
       "    <tr>\n",
       "      <th>4</th>\n",
       "      <td>4</td>\n",
       "      <td>Bengaluru, India</td>\n",
       "      <td>5-May-15</td>\n",
       "      <td>Gold</td>\n",
       "      <td>Bills</td>\n",
       "      <td>F</td>\n",
       "      <td>171574</td>\n",
       "    </tr>\n",
       "    <tr>\n",
       "      <th>5</th>\n",
       "      <td>5</td>\n",
       "      <td>Delhi, India</td>\n",
       "      <td>8-Sep-14</td>\n",
       "      <td>Silver</td>\n",
       "      <td>Bills</td>\n",
       "      <td>F</td>\n",
       "      <td>100036</td>\n",
       "    </tr>\n",
       "    <tr>\n",
       "      <th>6</th>\n",
       "      <td>6</td>\n",
       "      <td>Delhi, India</td>\n",
       "      <td>24-Feb-15</td>\n",
       "      <td>Gold</td>\n",
       "      <td>Bills</td>\n",
       "      <td>F</td>\n",
       "      <td>143250</td>\n",
       "    </tr>\n",
       "    <tr>\n",
       "      <th>7</th>\n",
       "      <td>7</td>\n",
       "      <td>Greater Mumbai, India</td>\n",
       "      <td>26-Jun-14</td>\n",
       "      <td>Platinum</td>\n",
       "      <td>Bills</td>\n",
       "      <td>F</td>\n",
       "      <td>150980</td>\n",
       "    </tr>\n",
       "    <tr>\n",
       "      <th>8</th>\n",
       "      <td>8</td>\n",
       "      <td>Delhi, India</td>\n",
       "      <td>28-Mar-14</td>\n",
       "      <td>Silver</td>\n",
       "      <td>Bills</td>\n",
       "      <td>F</td>\n",
       "      <td>192247</td>\n",
       "    </tr>\n",
       "    <tr>\n",
       "      <th>9</th>\n",
       "      <td>9</td>\n",
       "      <td>Delhi, India</td>\n",
       "      <td>1-Sep-14</td>\n",
       "      <td>Platinum</td>\n",
       "      <td>Bills</td>\n",
       "      <td>F</td>\n",
       "      <td>67932</td>\n",
       "    </tr>\n",
       "  </tbody>\n",
       "</table>\n",
       "</div>"
      ],
      "text/plain": [
       "   index                   City       Date  Card Type Exp Type Gender  Amount\n",
       "0      0           Delhi, India  29-Oct-14       Gold    Bills      F   82475\n",
       "1      1  Greater Mumbai, India  22-Aug-14   Platinum    Bills      F   32555\n",
       "2      2       Bengaluru, India  27-Aug-14     Silver    Bills      F  101738\n",
       "3      3  Greater Mumbai, India  12-Apr-14  Signature    Bills      F  123424\n",
       "4      4       Bengaluru, India   5-May-15       Gold    Bills      F  171574\n",
       "5      5           Delhi, India   8-Sep-14     Silver    Bills      F  100036\n",
       "6      6           Delhi, India  24-Feb-15       Gold    Bills      F  143250\n",
       "7      7  Greater Mumbai, India  26-Jun-14   Platinum    Bills      F  150980\n",
       "8      8           Delhi, India  28-Mar-14     Silver    Bills      F  192247\n",
       "9      9           Delhi, India   1-Sep-14   Platinum    Bills      F   67932"
      ]
     },
     "execution_count": 107,
     "metadata": {},
     "output_type": "execute_result"
    }
   ],
   "source": [
    "#lendo e imprimindo as primeiras 10 linhas\n",
    "\n",
    "tabela = pd.read_csv('CreditCardTransactions-India.csv')\n",
    "tabela.head(10)"
   ]
  },
  {
   "cell_type": "markdown",
   "id": "20f9a9df",
   "metadata": {},
   "source": [
    "## Informações gerais sobre a Base de Dados"
   ]
  },
  {
   "cell_type": "markdown",
   "id": "4ea4b8da",
   "metadata": {},
   "source": [
    "#### Quantas Entradas(linhas) e Variáveis(colunas) a base de dados possui? "
   ]
  },
  {
   "cell_type": "code",
   "execution_count": 10,
   "id": "e59065c3",
   "metadata": {},
   "outputs": [
    {
     "name": "stdout",
     "output_type": "stream",
     "text": [
      "---- A base de dados apresenta ----\n",
      "Entradas: 26052\n",
      "Variáveis: 7\n"
     ]
    }
   ],
   "source": [
    "print('---- A base de dados apresenta ----')\n",
    "print(f'Entradas: {tabela.shape[0]}')\n",
    "print(f'Variáveis: {tabela.shape[1]}')"
   ]
  },
  {
   "cell_type": "markdown",
   "id": "29852d5c",
   "metadata": {},
   "source": [
    "#### Tipos de dados(dtypes) das variáveis "
   ]
  },
  {
   "cell_type": "code",
   "execution_count": 11,
   "id": "e1f198c4",
   "metadata": {},
   "outputs": [
    {
     "data": {
      "text/html": [
       "<div>\n",
       "<style scoped>\n",
       "    .dataframe tbody tr th:only-of-type {\n",
       "        vertical-align: middle;\n",
       "    }\n",
       "\n",
       "    .dataframe tbody tr th {\n",
       "        vertical-align: top;\n",
       "    }\n",
       "\n",
       "    .dataframe thead th {\n",
       "        text-align: right;\n",
       "    }\n",
       "</style>\n",
       "<table border=\"1\" class=\"dataframe\">\n",
       "  <thead>\n",
       "    <tr style=\"text-align: right;\">\n",
       "      <th>Variáveis</th>\n",
       "      <th>Tipos de Dados</th>\n",
       "    </tr>\n",
       "  </thead>\n",
       "  <tbody>\n",
       "    <tr>\n",
       "      <th>index</th>\n",
       "      <td>int64</td>\n",
       "    </tr>\n",
       "    <tr>\n",
       "      <th>City</th>\n",
       "      <td>object</td>\n",
       "    </tr>\n",
       "    <tr>\n",
       "      <th>Date</th>\n",
       "      <td>object</td>\n",
       "    </tr>\n",
       "    <tr>\n",
       "      <th>Card Type</th>\n",
       "      <td>object</td>\n",
       "    </tr>\n",
       "    <tr>\n",
       "      <th>Exp Type</th>\n",
       "      <td>object</td>\n",
       "    </tr>\n",
       "    <tr>\n",
       "      <th>Gender</th>\n",
       "      <td>object</td>\n",
       "    </tr>\n",
       "    <tr>\n",
       "      <th>Amount</th>\n",
       "      <td>int64</td>\n",
       "    </tr>\n",
       "  </tbody>\n",
       "</table>\n",
       "</div>"
      ],
      "text/plain": [
       "Variáveis Tipos de Dados\n",
       "index              int64\n",
       "City              object\n",
       "Date              object\n",
       "Card Type         object\n",
       "Exp Type          object\n",
       "Gender            object\n",
       "Amount             int64"
      ]
     },
     "execution_count": 11,
     "metadata": {},
     "output_type": "execute_result"
    }
   ],
   "source": [
    "tipos_de_dados = pd.DataFrame(tabela.dtypes, columns = ['Tipos de Dados'])\n",
    "tipos_de_dados.columns.name = 'Variáveis'\n",
    "tipos_de_dados"
   ]
  },
  {
   "cell_type": "markdown",
   "id": "5be9923b",
   "metadata": {},
   "source": [
    "# Nome da Variável \t        |         Descrição\n",
    "* **City** --- Cidade que a transação ocorreu. **|** The city in which the transaction took place. (String) &nbsp;\n",
    "* **Date** --- Data que a transação foi feita **|** The date of the transaction. (Date) &nbsp;\n",
    "* **Card Type** --- Tipo do cartão usado na transação **|** The type of credit card used for the transaction. (String) &nbsp;\n",
    "* **Exp Type** --- Tipo de despesa associada à transação. **|** The type of expense associated with the transaction. (String) &nbsp;\n",
    "* **Gender** --- Gênero do titular do cartão. **|** The gender of the cardholder. (String) &nbsp;\n",
    "* **Amount** --- Quantidade de transações feitas. **|** The amount of the transaction. (Number) &nbsp;"
   ]
  },
  {
   "cell_type": "markdown",
   "id": "d86691c7",
   "metadata": {},
   "source": [
    "### Renomeando Variáveis(colunas)"
   ]
  },
  {
   "cell_type": "code",
   "execution_count": 110,
   "id": "b7f53f26",
   "metadata": {},
   "outputs": [
    {
     "data": {
      "text/html": [
       "<div>\n",
       "<style scoped>\n",
       "    .dataframe tbody tr th:only-of-type {\n",
       "        vertical-align: middle;\n",
       "    }\n",
       "\n",
       "    .dataframe tbody tr th {\n",
       "        vertical-align: top;\n",
       "    }\n",
       "\n",
       "    .dataframe thead th {\n",
       "        text-align: right;\n",
       "    }\n",
       "</style>\n",
       "<table border=\"1\" class=\"dataframe\">\n",
       "  <thead>\n",
       "    <tr style=\"text-align: right;\">\n",
       "      <th></th>\n",
       "      <th>index</th>\n",
       "      <th>Cidade</th>\n",
       "      <th>Data</th>\n",
       "      <th>Tipo do Cartão</th>\n",
       "      <th>Despesa</th>\n",
       "      <th>Genero</th>\n",
       "      <th>Quantidade</th>\n",
       "    </tr>\n",
       "  </thead>\n",
       "  <tbody>\n",
       "    <tr>\n",
       "      <th>0</th>\n",
       "      <td>0</td>\n",
       "      <td>Delhi, India</td>\n",
       "      <td>29-Oct-14</td>\n",
       "      <td>Gold</td>\n",
       "      <td>Bills</td>\n",
       "      <td>F</td>\n",
       "      <td>82475</td>\n",
       "    </tr>\n",
       "    <tr>\n",
       "      <th>1</th>\n",
       "      <td>1</td>\n",
       "      <td>Greater Mumbai, India</td>\n",
       "      <td>22-Aug-14</td>\n",
       "      <td>Platinum</td>\n",
       "      <td>Bills</td>\n",
       "      <td>F</td>\n",
       "      <td>32555</td>\n",
       "    </tr>\n",
       "    <tr>\n",
       "      <th>2</th>\n",
       "      <td>2</td>\n",
       "      <td>Bengaluru, India</td>\n",
       "      <td>27-Aug-14</td>\n",
       "      <td>Silver</td>\n",
       "      <td>Bills</td>\n",
       "      <td>F</td>\n",
       "      <td>101738</td>\n",
       "    </tr>\n",
       "    <tr>\n",
       "      <th>3</th>\n",
       "      <td>3</td>\n",
       "      <td>Greater Mumbai, India</td>\n",
       "      <td>12-Apr-14</td>\n",
       "      <td>Signature</td>\n",
       "      <td>Bills</td>\n",
       "      <td>F</td>\n",
       "      <td>123424</td>\n",
       "    </tr>\n",
       "    <tr>\n",
       "      <th>4</th>\n",
       "      <td>4</td>\n",
       "      <td>Bengaluru, India</td>\n",
       "      <td>5-May-15</td>\n",
       "      <td>Gold</td>\n",
       "      <td>Bills</td>\n",
       "      <td>F</td>\n",
       "      <td>171574</td>\n",
       "    </tr>\n",
       "  </tbody>\n",
       "</table>\n",
       "</div>"
      ],
      "text/plain": [
       "   index                 Cidade       Data Tipo do Cartão Despesa Genero  \\\n",
       "0      0           Delhi, India  29-Oct-14           Gold   Bills      F   \n",
       "1      1  Greater Mumbai, India  22-Aug-14       Platinum   Bills      F   \n",
       "2      2       Bengaluru, India  27-Aug-14         Silver   Bills      F   \n",
       "3      3  Greater Mumbai, India  12-Apr-14      Signature   Bills      F   \n",
       "4      4       Bengaluru, India   5-May-15           Gold   Bills      F   \n",
       "\n",
       "   Quantidade  \n",
       "0       82475  \n",
       "1       32555  \n",
       "2      101738  \n",
       "3      123424  \n",
       "4      171574  "
      ]
     },
     "execution_count": 110,
     "metadata": {},
     "output_type": "execute_result"
    }
   ],
   "source": [
    "tabela.columns = [\"index\", \"Cidade\", \"Data\", \"Tipo do Cartão\", \"Despesa\", \"Genero\", \"Quantidade\"]\n",
    "tabela.head()"
   ]
  },
  {
   "cell_type": "markdown",
   "id": "f6723da7",
   "metadata": {},
   "source": [
    "### Verificação se possui valores ausentes ou dados duplicados:"
   ]
  },
  {
   "cell_type": "code",
   "execution_count": 82,
   "id": "c9310470",
   "metadata": {},
   "outputs": [
    {
     "data": {
      "text/plain": [
       "False"
      ]
     },
     "execution_count": 82,
     "metadata": {},
     "output_type": "execute_result"
    }
   ],
   "source": [
    "#Valores ausentes\n",
    "tabela.isnull().values.any()"
   ]
  },
  {
   "cell_type": "code",
   "execution_count": 80,
   "id": "eaf04af0",
   "metadata": {},
   "outputs": [
    {
     "data": {
      "text/plain": [
       "0"
      ]
     },
     "execution_count": 80,
     "metadata": {},
     "output_type": "execute_result"
    }
   ],
   "source": [
    "#Dados duplicados\n",
    "tabela.duplicated().sum()"
   ]
  },
  {
   "cell_type": "markdown",
   "id": "555cf317",
   "metadata": {},
   "source": [
    "### Tipos e quantidades de Cartões:"
   ]
  },
  {
   "cell_type": "code",
   "execution_count": 132,
   "id": "6389b81b",
   "metadata": {},
   "outputs": [
    {
     "data": {
      "text/plain": [
       "Silver       6840\n",
       "Signature    6447\n",
       "Platinum     6398\n",
       "Gold         6367\n",
       "Name: Tipo do Cartão, dtype: int64"
      ]
     },
     "execution_count": 132,
     "metadata": {},
     "output_type": "execute_result"
    }
   ],
   "source": [
    "tabela['Tipo do Cartão'].value_counts()"
   ]
  },
  {
   "cell_type": "markdown",
   "id": "9cc959fe",
   "metadata": {},
   "source": [
    "## Vamos analisar o gênero que mais teve transações."
   ]
  },
  {
   "cell_type": "markdown",
   "id": "179735b8",
   "metadata": {},
   "source": [
    "### Quantidades de Homens e mulheres:"
   ]
  },
  {
   "cell_type": "code",
   "execution_count": 183,
   "id": "ff7cb262",
   "metadata": {},
   "outputs": [
    {
     "data": {
      "text/plain": [
       "F    13680\n",
       "M    12372\n",
       "Name: Genero, dtype: int64"
      ]
     },
     "metadata": {},
     "output_type": "display_data"
    }
   ],
   "source": [
    "coluna_genero = tabela['Genero']\n",
    "distincao_Masc_Fem = coluna_genero.value_counts()\n",
    "display(distincao_Masc_Fem)"
   ]
  },
  {
   "cell_type": "code",
   "execution_count": 126,
   "id": "8047779a",
   "metadata": {},
   "outputs": [
    {
     "data": {
      "image/png": "[encoded data removed]",
      "text/plain": [
       "<Figure size 400x200 with 1 Axes>"
      ]
     },
     "metadata": {},
     "output_type": "display_data"
    }
   ],
   "source": [
    "plt.rc('figure', figsize = (4,2))\n",
    "fig = tabela['Genero'].value_counts().plot.barh(color ='purple', width = 0.5)\n",
    "fig.set_ylabel('Gênero')\n",
    "fig.set_title('Quantidade')\n",
    "plt.show()"
   ]
  },
  {
   "cell_type": "markdown",
   "id": "2e3ac368",
   "metadata": {},
   "source": [
    "### Pegando Porcentagem entre homens e mulheres:"
   ]
  },
  {
   "cell_type": "code",
   "execution_count": 188,
   "id": "11ba5439",
   "metadata": {},
   "outputs": [
    {
     "name": "stdout",
     "output_type": "stream",
     "text": [
      "Existem -[52.510363887609394, 47.489636112390606]- porcentos de mulheres e homens respectivamente.\n"
     ]
    }
   ],
   "source": [
    "porcentagem_sexo = [100*x/distincao_Masc_Fem.sum() for x in distincao_Masc_Fem]\n",
    "print(f'Existem -{porcentagem_sexo}- porcentos de mulheres e homens respectivamente.')"
   ]
  },
  {
   "cell_type": "markdown",
   "id": "b2d92137",
   "metadata": {},
   "source": [
    "## separando colunas que quero utilizar para pegar  a média,variancia e etc"
   ]
  },
  {
   "cell_type": "code",
   "execution_count": 209,
   "id": "bb6f07c9",
   "metadata": {},
   "outputs": [
    {
     "data": {
      "text/plain": [
       "array(['index', 'Cidade', 'Data', 'Tipo do Cartão', 'Despesa', 'Genero',\n",
       "       'Quantidade'], dtype=object)"
      ]
     },
     "execution_count": 209,
     "metadata": {},
     "output_type": "execute_result"
    }
   ],
   "source": [
    "tabela.columns.values"
   ]
  },
  {
   "cell_type": "code",
   "execution_count": 211,
   "id": "1cd9310a",
   "metadata": {},
   "outputs": [],
   "source": [
    "colunasSelecionadas = ['Genero','Quantidade']"
   ]
  },
  {
   "cell_type": "code",
   "execution_count": 217,
   "id": "8051502c",
   "metadata": {},
   "outputs": [
    {
     "data": {
      "text/html": [
       "<div>\n",
       "<style scoped>\n",
       "    .dataframe tbody tr th:only-of-type {\n",
       "        vertical-align: middle;\n",
       "    }\n",
       "\n",
       "    .dataframe tbody tr th {\n",
       "        vertical-align: top;\n",
       "    }\n",
       "\n",
       "    .dataframe thead th {\n",
       "        text-align: right;\n",
       "    }\n",
       "</style>\n",
       "<table border=\"1\" class=\"dataframe\">\n",
       "  <thead>\n",
       "    <tr style=\"text-align: right;\">\n",
       "      <th></th>\n",
       "      <th>Genero</th>\n",
       "      <th>Quantidade</th>\n",
       "    </tr>\n",
       "  </thead>\n",
       "  <tbody>\n",
       "    <tr>\n",
       "      <th>0</th>\n",
       "      <td>F</td>\n",
       "      <td>82475</td>\n",
       "    </tr>\n",
       "    <tr>\n",
       "      <th>1</th>\n",
       "      <td>F</td>\n",
       "      <td>32555</td>\n",
       "    </tr>\n",
       "    <tr>\n",
       "      <th>2</th>\n",
       "      <td>F</td>\n",
       "      <td>101738</td>\n",
       "    </tr>\n",
       "    <tr>\n",
       "      <th>3</th>\n",
       "      <td>F</td>\n",
       "      <td>123424</td>\n",
       "    </tr>\n",
       "    <tr>\n",
       "      <th>4</th>\n",
       "      <td>F</td>\n",
       "      <td>171574</td>\n",
       "    </tr>\n",
       "  </tbody>\n",
       "</table>\n",
       "</div>"
      ],
      "text/plain": [
       "  Genero  Quantidade\n",
       "0      F       82475\n",
       "1      F       32555\n",
       "2      F      101738\n",
       "3      F      123424\n",
       "4      F      171574"
      ]
     },
     "execution_count": 217,
     "metadata": {},
     "output_type": "execute_result"
    }
   ],
   "source": [
    "# depois de separar os atributos que quero passo a função filter, para filtrar só os dados que quero\n",
    "\n",
    "selecionados = tabela.filter(items=colunasSelecionadas)\n",
    "selecionados.head()"
   ]
  },
  {
   "cell_type": "code",
   "execution_count": 223,
   "id": "64bfb462",
   "metadata": {},
   "outputs": [
    {
     "data": {
      "text/html": [
       "<div>\n",
       "<style scoped>\n",
       "    .dataframe tbody tr th:only-of-type {\n",
       "        vertical-align: middle;\n",
       "    }\n",
       "\n",
       "    .dataframe tbody tr th {\n",
       "        vertical-align: top;\n",
       "    }\n",
       "\n",
       "    .dataframe thead tr th {\n",
       "        text-align: left;\n",
       "    }\n",
       "\n",
       "    .dataframe thead tr:last-of-type th {\n",
       "        text-align: right;\n",
       "    }\n",
       "</style>\n",
       "<table border=\"1\" class=\"dataframe\">\n",
       "  <thead>\n",
       "    <tr>\n",
       "      <th></th>\n",
       "      <th colspan=\"8\" halign=\"left\">Quantidade</th>\n",
       "    </tr>\n",
       "    <tr>\n",
       "      <th></th>\n",
       "      <th>count</th>\n",
       "      <th>mean</th>\n",
       "      <th>std</th>\n",
       "      <th>min</th>\n",
       "      <th>25%</th>\n",
       "      <th>50%</th>\n",
       "      <th>75%</th>\n",
       "      <th>max</th>\n",
       "    </tr>\n",
       "    <tr>\n",
       "      <th>Genero</th>\n",
       "      <th></th>\n",
       "      <th></th>\n",
       "      <th></th>\n",
       "      <th></th>\n",
       "      <th></th>\n",
       "      <th></th>\n",
       "      <th></th>\n",
       "      <th></th>\n",
       "    </tr>\n",
       "  </thead>\n",
       "  <tbody>\n",
       "    <tr>\n",
       "      <th>F</th>\n",
       "      <td>13680.0</td>\n",
       "      <td>161206.946637</td>\n",
       "      <td>115965.163236</td>\n",
       "      <td>1005.0</td>\n",
       "      <td>77128.50</td>\n",
       "      <td>154797.0</td>\n",
       "      <td>230407.75</td>\n",
       "      <td>998077.0</td>\n",
       "    </tr>\n",
       "    <tr>\n",
       "      <th>M</th>\n",
       "      <td>12372.0</td>\n",
       "      <td>151109.145086</td>\n",
       "      <td>86282.544283</td>\n",
       "      <td>1018.0</td>\n",
       "      <td>77102.25</td>\n",
       "      <td>151242.0</td>\n",
       "      <td>225900.00</td>\n",
       "      <td>299981.0</td>\n",
       "    </tr>\n",
       "  </tbody>\n",
       "</table>\n",
       "</div>"
      ],
      "text/plain": [
       "       Quantidade                                                            \\\n",
       "            count           mean            std     min       25%       50%   \n",
       "Genero                                                                        \n",
       "F         13680.0  161206.946637  115965.163236  1005.0  77128.50  154797.0   \n",
       "M         12372.0  151109.145086   86282.544283  1018.0  77102.25  151242.0   \n",
       "\n",
       "                             \n",
       "              75%       max  \n",
       "Genero                       \n",
       "F       230407.75  998077.0  \n",
       "M       225900.00  299981.0  "
      ]
     },
     "execution_count": 223,
     "metadata": {},
     "output_type": "execute_result"
    }
   ],
   "source": [
    "selecionados.groupby('Genero').describe()"
   ]
  },
  {
   "cell_type": "markdown",
   "id": "80b54e43",
   "metadata": {},
   "source": [
    "### Quantidade de Transações feitas por cada gênero:"
   ]
  },
  {
   "cell_type": "code",
   "execution_count": 181,
   "id": "974629a0",
   "metadata": {},
   "outputs": [
    {
     "data": {
      "text/html": [
       "<div>\n",
       "<style scoped>\n",
       "    .dataframe tbody tr th:only-of-type {\n",
       "        vertical-align: middle;\n",
       "    }\n",
       "\n",
       "    .dataframe tbody tr th {\n",
       "        vertical-align: top;\n",
       "    }\n",
       "\n",
       "    .dataframe thead th {\n",
       "        text-align: right;\n",
       "    }\n",
       "</style>\n",
       "<table border=\"1\" class=\"dataframe\">\n",
       "  <thead>\n",
       "    <tr style=\"text-align: right;\">\n",
       "      <th></th>\n",
       "      <th>Quantidade</th>\n",
       "    </tr>\n",
       "    <tr>\n",
       "      <th>Genero</th>\n",
       "      <th></th>\n",
       "    </tr>\n",
       "  </thead>\n",
       "  <tbody>\n",
       "    <tr>\n",
       "      <th>F</th>\n",
       "      <td>2205311030</td>\n",
       "    </tr>\n",
       "    <tr>\n",
       "      <th>M</th>\n",
       "      <td>1869522343</td>\n",
       "    </tr>\n",
       "  </tbody>\n",
       "</table>\n",
       "</div>"
      ],
      "text/plain": [
       "        Quantidade\n",
       "Genero            \n",
       "F       2205311030\n",
       "M       1869522343"
      ]
     },
     "metadata": {},
     "output_type": "display_data"
    }
   ],
   "source": [
    "genero = tabela[[\"Genero\", \"Quantidade\"]].groupby([\"Genero\"]).sum()\n",
    "display(genero)"
   ]
  },
  {
   "cell_type": "code",
   "execution_count": 173,
   "id": "e5422834",
   "metadata": {},
   "outputs": [
    {
     "data": {
      "text/plain": [
       "F    13680\n",
       "M    12372\n",
       "Name: Genero, dtype: int64"
      ]
     },
     "execution_count": 173,
     "metadata": {},
     "output_type": "execute_result"
    }
   ],
   "source": [
    "coluna_genero = tabela['Genero']\n",
    "distincao_M_F = coluna_genero.value_counts()\n",
    "distincao_M_F"
   ]
  },
  {
   "cell_type": "markdown",
   "id": "070c4b9a",
   "metadata": {},
   "source": [
    "# Vamos analisar somente as Mulheres agora:"
   ]
  },
  {
   "cell_type": "code",
   "execution_count": 113,
   "id": "71342954",
   "metadata": {},
   "outputs": [
    {
     "data": {
      "text/html": [
       "<div>\n",
       "<style scoped>\n",
       "    .dataframe tbody tr th:only-of-type {\n",
       "        vertical-align: middle;\n",
       "    }\n",
       "\n",
       "    .dataframe tbody tr th {\n",
       "        vertical-align: top;\n",
       "    }\n",
       "\n",
       "    .dataframe thead th {\n",
       "        text-align: right;\n",
       "    }\n",
       "</style>\n",
       "<table border=\"1\" class=\"dataframe\">\n",
       "  <thead>\n",
       "    <tr style=\"text-align: right;\">\n",
       "      <th></th>\n",
       "      <th>index</th>\n",
       "      <th>Cidade</th>\n",
       "      <th>Data</th>\n",
       "      <th>Tipo do Cartão</th>\n",
       "      <th>Despesa</th>\n",
       "      <th>Genero</th>\n",
       "      <th>Quantidade</th>\n",
       "    </tr>\n",
       "  </thead>\n",
       "  <tbody>\n",
       "    <tr>\n",
       "      <th>0</th>\n",
       "      <td>0</td>\n",
       "      <td>Delhi, India</td>\n",
       "      <td>29-Oct-14</td>\n",
       "      <td>Gold</td>\n",
       "      <td>Bills</td>\n",
       "      <td>F</td>\n",
       "      <td>82475</td>\n",
       "    </tr>\n",
       "    <tr>\n",
       "      <th>1</th>\n",
       "      <td>1</td>\n",
       "      <td>Greater Mumbai, India</td>\n",
       "      <td>22-Aug-14</td>\n",
       "      <td>Platinum</td>\n",
       "      <td>Bills</td>\n",
       "      <td>F</td>\n",
       "      <td>32555</td>\n",
       "    </tr>\n",
       "    <tr>\n",
       "      <th>2</th>\n",
       "      <td>2</td>\n",
       "      <td>Bengaluru, India</td>\n",
       "      <td>27-Aug-14</td>\n",
       "      <td>Silver</td>\n",
       "      <td>Bills</td>\n",
       "      <td>F</td>\n",
       "      <td>101738</td>\n",
       "    </tr>\n",
       "    <tr>\n",
       "      <th>3</th>\n",
       "      <td>3</td>\n",
       "      <td>Greater Mumbai, India</td>\n",
       "      <td>12-Apr-14</td>\n",
       "      <td>Signature</td>\n",
       "      <td>Bills</td>\n",
       "      <td>F</td>\n",
       "      <td>123424</td>\n",
       "    </tr>\n",
       "    <tr>\n",
       "      <th>4</th>\n",
       "      <td>4</td>\n",
       "      <td>Bengaluru, India</td>\n",
       "      <td>5-May-15</td>\n",
       "      <td>Gold</td>\n",
       "      <td>Bills</td>\n",
       "      <td>F</td>\n",
       "      <td>171574</td>\n",
       "    </tr>\n",
       "  </tbody>\n",
       "</table>\n",
       "</div>"
      ],
      "text/plain": [
       "   index                 Cidade       Data Tipo do Cartão Despesa Genero  \\\n",
       "0      0           Delhi, India  29-Oct-14           Gold   Bills      F   \n",
       "1      1  Greater Mumbai, India  22-Aug-14       Platinum   Bills      F   \n",
       "2      2       Bengaluru, India  27-Aug-14         Silver   Bills      F   \n",
       "3      3  Greater Mumbai, India  12-Apr-14      Signature   Bills      F   \n",
       "4      4       Bengaluru, India   5-May-15           Gold   Bills      F   \n",
       "\n",
       "   Quantidade  \n",
       "0       82475  \n",
       "1       32555  \n",
       "2      101738  \n",
       "3      123424  \n",
       "4      171574  "
      ]
     },
     "execution_count": 113,
     "metadata": {},
     "output_type": "execute_result"
    }
   ],
   "source": [
    "# pegando somente as mulheres:\n",
    "coluna_mulheres = tabela[tabela['Genero'] == 'F']\n",
    "coluna_mulheres.head()"
   ]
  },
  {
   "cell_type": "code",
   "execution_count": 149,
   "id": "c9c9c726",
   "metadata": {},
   "outputs": [
    {
     "data": {
      "text/plain": [
       "Food             3012\n",
       "Bills            2860\n",
       "Fuel             2617\n",
       "Grocery          2428\n",
       "Entertainment    2384\n",
       "Travel            379\n",
       "Name: Despesa, dtype: int64"
      ]
     },
     "execution_count": 149,
     "metadata": {},
     "output_type": "execute_result"
    }
   ],
   "source": [
    "# analisar gastos somente delas:\n",
    "\n",
    "coluna_mulheres['Despesa'].value_counts()"
   ]
  },
  {
   "cell_type": "code",
   "execution_count": 114,
   "id": "e85cb0e8",
   "metadata": {},
   "outputs": [
    {
     "data": {
      "text/plain": [
       "Silver       3773\n",
       "Signature    3368\n",
       "Gold         3287\n",
       "Platinum     3252\n",
       "Name: Tipo do Cartão, dtype: int64"
      ]
     },
     "execution_count": 114,
     "metadata": {},
     "output_type": "execute_result"
    }
   ],
   "source": [
    "# quantidade \n",
    "coluna_mulheres['Tipo do Cartão'].value_counts()"
   ]
  },
  {
   "cell_type": "markdown",
   "id": "5e049b50",
   "metadata": {},
   "source": [
    "### separando a quantidade de transações em cada tipo de cartão:"
   ]
  },
  {
   "cell_type": "code",
   "execution_count": 133,
   "id": "186c6123",
   "metadata": {},
   "outputs": [
    {
     "data": {
      "text/html": [
       "<div>\n",
       "<style scoped>\n",
       "    .dataframe tbody tr th:only-of-type {\n",
       "        vertical-align: middle;\n",
       "    }\n",
       "\n",
       "    .dataframe tbody tr th {\n",
       "        vertical-align: top;\n",
       "    }\n",
       "\n",
       "    .dataframe thead th {\n",
       "        text-align: right;\n",
       "    }\n",
       "</style>\n",
       "<table border=\"1\" class=\"dataframe\">\n",
       "  <thead>\n",
       "    <tr style=\"text-align: right;\">\n",
       "      <th></th>\n",
       "      <th>Quantidade</th>\n",
       "    </tr>\n",
       "    <tr>\n",
       "      <th>Tipo do Cartão</th>\n",
       "      <th></th>\n",
       "    </tr>\n",
       "  </thead>\n",
       "  <tbody>\n",
       "    <tr>\n",
       "      <th>Gold</th>\n",
       "      <td>522932183</td>\n",
       "    </tr>\n",
       "    <tr>\n",
       "      <th>Platinum</th>\n",
       "      <td>531940229</td>\n",
       "    </tr>\n",
       "    <tr>\n",
       "      <th>Signature</th>\n",
       "      <td>548005149</td>\n",
       "    </tr>\n",
       "    <tr>\n",
       "      <th>Silver</th>\n",
       "      <td>602433469</td>\n",
       "    </tr>\n",
       "  </tbody>\n",
       "</table>\n",
       "</div>"
      ],
      "text/plain": [
       "                Quantidade\n",
       "Tipo do Cartão            \n",
       "Gold             522932183\n",
       "Platinum         531940229\n",
       "Signature        548005149\n",
       "Silver           602433469"
      ]
     },
     "metadata": {},
     "output_type": "display_data"
    },
    {
     "data": {
      "text/html": [
       "<div>\n",
       "<style scoped>\n",
       "    .dataframe tbody tr th:only-of-type {\n",
       "        vertical-align: middle;\n",
       "    }\n",
       "\n",
       "    .dataframe tbody tr th {\n",
       "        vertical-align: top;\n",
       "    }\n",
       "\n",
       "    .dataframe thead th {\n",
       "        text-align: right;\n",
       "    }\n",
       "</style>\n",
       "<table border=\"1\" class=\"dataframe\">\n",
       "  <thead>\n",
       "    <tr style=\"text-align: right;\">\n",
       "      <th></th>\n",
       "      <th>Quantidade</th>\n",
       "    </tr>\n",
       "    <tr>\n",
       "      <th>Genero</th>\n",
       "      <th></th>\n",
       "    </tr>\n",
       "  </thead>\n",
       "  <tbody>\n",
       "    <tr>\n",
       "      <th>F</th>\n",
       "      <td>2205311030</td>\n",
       "    </tr>\n",
       "  </tbody>\n",
       "</table>\n",
       "</div>"
      ],
      "text/plain": [
       "        Quantidade\n",
       "Genero            \n",
       "F       2205311030"
      ]
     },
     "execution_count": 133,
     "metadata": {},
     "output_type": "execute_result"
    }
   ],
   "source": [
    "# transações em cada tipo de cartão:\n",
    "gastos_mulheres = coluna_mulheres[[\"Tipo do Cartão\", \"Quantidade\"]].groupby([\"Tipo do Cartão\"]).sum()\n",
    "display(gastos_mulheres)\n",
    "\n",
    "# total de transações por mulheres\n",
    "total_transacoes_mulheres = coluna_mulheres[[\"Genero\", \"Quantidade\"]].groupby([\"Genero\"]).sum()\n",
    "total_transacoes_mulheres"
   ]
  },
  {
   "cell_type": "markdown",
   "id": "cfb11af0",
   "metadata": {},
   "source": [
    "## Analisando somente os Homens agora:"
   ]
  },
  {
   "cell_type": "code",
   "execution_count": 125,
   "id": "e15083aa",
   "metadata": {},
   "outputs": [
    {
     "data": {
      "text/html": [
       "<div>\n",
       "<style scoped>\n",
       "    .dataframe tbody tr th:only-of-type {\n",
       "        vertical-align: middle;\n",
       "    }\n",
       "\n",
       "    .dataframe tbody tr th {\n",
       "        vertical-align: top;\n",
       "    }\n",
       "\n",
       "    .dataframe thead th {\n",
       "        text-align: right;\n",
       "    }\n",
       "</style>\n",
       "<table border=\"1\" class=\"dataframe\">\n",
       "  <thead>\n",
       "    <tr style=\"text-align: right;\">\n",
       "      <th></th>\n",
       "      <th>index</th>\n",
       "      <th>Cidade</th>\n",
       "      <th>Data</th>\n",
       "      <th>Tipo do Cartão</th>\n",
       "      <th>Despesa</th>\n",
       "      <th>Genero</th>\n",
       "      <th>Quantidade</th>\n",
       "    </tr>\n",
       "  </thead>\n",
       "  <tbody>\n",
       "    <tr>\n",
       "      <th>1439</th>\n",
       "      <td>1439</td>\n",
       "      <td>Greater Mumbai, India</td>\n",
       "      <td>23-Dec-13</td>\n",
       "      <td>Gold</td>\n",
       "      <td>Food</td>\n",
       "      <td>M</td>\n",
       "      <td>260246</td>\n",
       "    </tr>\n",
       "    <tr>\n",
       "      <th>1441</th>\n",
       "      <td>1441</td>\n",
       "      <td>Greater Mumbai, India</td>\n",
       "      <td>22-Jul-14</td>\n",
       "      <td>Signature</td>\n",
       "      <td>Food</td>\n",
       "      <td>M</td>\n",
       "      <td>155937</td>\n",
       "    </tr>\n",
       "    <tr>\n",
       "      <th>1443</th>\n",
       "      <td>1443</td>\n",
       "      <td>Ahmedabad, India</td>\n",
       "      <td>1-May-14</td>\n",
       "      <td>Platinum</td>\n",
       "      <td>Food</td>\n",
       "      <td>M</td>\n",
       "      <td>61531</td>\n",
       "    </tr>\n",
       "    <tr>\n",
       "      <th>1447</th>\n",
       "      <td>1447</td>\n",
       "      <td>Bengaluru, India</td>\n",
       "      <td>9-Dec-14</td>\n",
       "      <td>Gold</td>\n",
       "      <td>Food</td>\n",
       "      <td>M</td>\n",
       "      <td>46535</td>\n",
       "    </tr>\n",
       "    <tr>\n",
       "      <th>1448</th>\n",
       "      <td>1448</td>\n",
       "      <td>Ahmedabad, India</td>\n",
       "      <td>8-Sep-14</td>\n",
       "      <td>Gold</td>\n",
       "      <td>Food</td>\n",
       "      <td>M</td>\n",
       "      <td>120827</td>\n",
       "    </tr>\n",
       "  </tbody>\n",
       "</table>\n",
       "</div>"
      ],
      "text/plain": [
       "      index                 Cidade       Data Tipo do Cartão Despesa Genero  \\\n",
       "1439   1439  Greater Mumbai, India  23-Dec-13           Gold    Food      M   \n",
       "1441   1441  Greater Mumbai, India  22-Jul-14      Signature    Food      M   \n",
       "1443   1443       Ahmedabad, India   1-May-14       Platinum    Food      M   \n",
       "1447   1447       Bengaluru, India   9-Dec-14           Gold    Food      M   \n",
       "1448   1448       Ahmedabad, India   8-Sep-14           Gold    Food      M   \n",
       "\n",
       "      Quantidade  \n",
       "1439      260246  \n",
       "1441      155937  \n",
       "1443       61531  \n",
       "1447       46535  \n",
       "1448      120827  "
      ]
     },
     "execution_count": 125,
     "metadata": {},
     "output_type": "execute_result"
    }
   ],
   "source": [
    "# pegando somente os homens:\n",
    "coluna_homens = tabela[tabela['Genero'] == 'M']\n",
    "coluna_homens.head()"
   ]
  },
  {
   "cell_type": "code",
   "execution_count": 126,
   "id": "e8b93969",
   "metadata": {},
   "outputs": [
    {
     "data": {
      "text/plain": [
       "Fuel             2640\n",
       "Food             2451\n",
       "Entertainment    2378\n",
       "Grocery          2326\n",
       "Bills            2218\n",
       "Travel            359\n",
       "Name: Despesa, dtype: int64"
      ]
     },
     "execution_count": 126,
     "metadata": {},
     "output_type": "execute_result"
    }
   ],
   "source": [
    "# analisar gastos somente deles:\n",
    "\n",
    "coluna_homens['Despesa'].value_counts()"
   ]
  },
  {
   "cell_type": "code",
   "execution_count": 127,
   "id": "458465c2",
   "metadata": {},
   "outputs": [
    {
     "data": {
      "text/plain": [
       "Platinum     3146\n",
       "Gold         3080\n",
       "Signature    3079\n",
       "Silver       3067\n",
       "Name: Tipo do Cartão, dtype: int64"
      ]
     },
     "execution_count": 127,
     "metadata": {},
     "output_type": "execute_result"
    }
   ],
   "source": [
    "# quantidade \n",
    "coluna_homens['Tipo do Cartão'].value_counts()"
   ]
  },
  {
   "cell_type": "code",
   "execution_count": 135,
   "id": "9a827cf7",
   "metadata": {},
   "outputs": [
    {
     "data": {
      "text/html": [
       "<div>\n",
       "<style scoped>\n",
       "    .dataframe tbody tr th:only-of-type {\n",
       "        vertical-align: middle;\n",
       "    }\n",
       "\n",
       "    .dataframe tbody tr th {\n",
       "        vertical-align: top;\n",
       "    }\n",
       "\n",
       "    .dataframe thead th {\n",
       "        text-align: right;\n",
       "    }\n",
       "</style>\n",
       "<table border=\"1\" class=\"dataframe\">\n",
       "  <thead>\n",
       "    <tr style=\"text-align: right;\">\n",
       "      <th></th>\n",
       "      <th>Quantidade</th>\n",
       "    </tr>\n",
       "    <tr>\n",
       "      <th>Tipo do Cartão</th>\n",
       "      <th></th>\n",
       "    </tr>\n",
       "  </thead>\n",
       "  <tbody>\n",
       "    <tr>\n",
       "      <th>Gold</th>\n",
       "      <td>461607353</td>\n",
       "    </tr>\n",
       "    <tr>\n",
       "      <th>Platinum</th>\n",
       "      <td>475698790</td>\n",
       "    </tr>\n",
       "    <tr>\n",
       "      <th>Signature</th>\n",
       "      <td>465035956</td>\n",
       "    </tr>\n",
       "    <tr>\n",
       "      <th>Silver</th>\n",
       "      <td>467180244</td>\n",
       "    </tr>\n",
       "  </tbody>\n",
       "</table>\n",
       "</div>"
      ],
      "text/plain": [
       "                Quantidade\n",
       "Tipo do Cartão            \n",
       "Gold             461607353\n",
       "Platinum         475698790\n",
       "Signature        465035956\n",
       "Silver           467180244"
      ]
     },
     "metadata": {},
     "output_type": "display_data"
    },
    {
     "data": {
      "text/html": [
       "<div>\n",
       "<style scoped>\n",
       "    .dataframe tbody tr th:only-of-type {\n",
       "        vertical-align: middle;\n",
       "    }\n",
       "\n",
       "    .dataframe tbody tr th {\n",
       "        vertical-align: top;\n",
       "    }\n",
       "\n",
       "    .dataframe thead th {\n",
       "        text-align: right;\n",
       "    }\n",
       "</style>\n",
       "<table border=\"1\" class=\"dataframe\">\n",
       "  <thead>\n",
       "    <tr style=\"text-align: right;\">\n",
       "      <th></th>\n",
       "      <th>Quantidade</th>\n",
       "    </tr>\n",
       "    <tr>\n",
       "      <th>Genero</th>\n",
       "      <th></th>\n",
       "    </tr>\n",
       "  </thead>\n",
       "  <tbody>\n",
       "    <tr>\n",
       "      <th>M</th>\n",
       "      <td>1869522343</td>\n",
       "    </tr>\n",
       "  </tbody>\n",
       "</table>\n",
       "</div>"
      ],
      "text/plain": [
       "        Quantidade\n",
       "Genero            \n",
       "M       1869522343"
      ]
     },
     "execution_count": 135,
     "metadata": {},
     "output_type": "execute_result"
    }
   ],
   "source": [
    "# transações em cada tipo de cartão:\n",
    "gastos_homens = coluna_homens[[\"Tipo do Cartão\", \"Quantidade\"]].groupby([\"Tipo do Cartão\"]).sum()\n",
    "display(gastos_homens)\n",
    "\n",
    "# total de transações por homens\n",
    "total_transacoes_homens = coluna_homens[[\"Genero\", \"Quantidade\"]].groupby([\"Genero\"]).sum()\n",
    "total_transacoes_homens"
   ]
  },
  {
   "cell_type": "code",
   "execution_count": 119,
   "id": "b6346e7d",
   "metadata": {},
   "outputs": [
    {
     "data": {
      "text/html": [
       "<div>\n",
       "<style scoped>\n",
       "    .dataframe tbody tr th:only-of-type {\n",
       "        vertical-align: middle;\n",
       "    }\n",
       "\n",
       "    .dataframe tbody tr th {\n",
       "        vertical-align: top;\n",
       "    }\n",
       "\n",
       "    .dataframe thead th {\n",
       "        text-align: right;\n",
       "    }\n",
       "</style>\n",
       "<table border=\"1\" class=\"dataframe\">\n",
       "  <thead>\n",
       "    <tr style=\"text-align: right;\">\n",
       "      <th></th>\n",
       "      <th>Quantidade</th>\n",
       "    </tr>\n",
       "    <tr>\n",
       "      <th>Cidade</th>\n",
       "      <th></th>\n",
       "    </tr>\n",
       "  </thead>\n",
       "  <tbody>\n",
       "    <tr>\n",
       "      <th>Achalpur, India</th>\n",
       "      <td>9</td>\n",
       "    </tr>\n",
       "    <tr>\n",
       "      <th>Adilabad, India</th>\n",
       "      <td>10</td>\n",
       "    </tr>\n",
       "    <tr>\n",
       "      <th>Adityapur, India</th>\n",
       "      <td>6</td>\n",
       "    </tr>\n",
       "    <tr>\n",
       "      <th>Adoni, India</th>\n",
       "      <td>9</td>\n",
       "    </tr>\n",
       "    <tr>\n",
       "      <th>Adoor, India</th>\n",
       "      <td>7</td>\n",
       "    </tr>\n",
       "    <tr>\n",
       "      <th>...</th>\n",
       "      <td>...</td>\n",
       "    </tr>\n",
       "    <tr>\n",
       "      <th>Zaidpur, India</th>\n",
       "      <td>5</td>\n",
       "    </tr>\n",
       "    <tr>\n",
       "      <th>Zamania, India</th>\n",
       "      <td>6</td>\n",
       "    </tr>\n",
       "    <tr>\n",
       "      <th>Zira, India</th>\n",
       "      <td>9</td>\n",
       "    </tr>\n",
       "    <tr>\n",
       "      <th>Zirakpur, India</th>\n",
       "      <td>3</td>\n",
       "    </tr>\n",
       "    <tr>\n",
       "      <th>Zunheboto, India</th>\n",
       "      <td>3</td>\n",
       "    </tr>\n",
       "  </tbody>\n",
       "</table>\n",
       "<p>986 rows × 1 columns</p>\n",
       "</div>"
      ],
      "text/plain": [
       "                  Quantidade\n",
       "Cidade                      \n",
       "Achalpur, India            9\n",
       "Adilabad, India           10\n",
       "Adityapur, India           6\n",
       "Adoni, India               9\n",
       "Adoor, India               7\n",
       "...                      ...\n",
       "Zaidpur, India             5\n",
       "Zamania, India             6\n",
       "Zira, India                9\n",
       "Zirakpur, India            3\n",
       "Zunheboto, India           3\n",
       "\n",
       "[986 rows x 1 columns]"
      ]
     },
     "execution_count": 119,
     "metadata": {},
     "output_type": "execute_result"
    }
   ],
   "source": [
    "tabela.filter(items=['Cidade','Quantidade']).groupby('Cidade').count()"
   ]
  },
  {
   "cell_type": "markdown",
   "id": "550170f8",
   "metadata": {},
   "source": [
    "### Pegando quantidade de pessoas que gastaram no dia:"
   ]
  },
  {
   "cell_type": "code",
   "execution_count": 55,
   "id": "1482df70",
   "metadata": {},
   "outputs": [
    {
     "data": {
      "text/html": [
       "<div>\n",
       "<style scoped>\n",
       "    .dataframe tbody tr th:only-of-type {\n",
       "        vertical-align: middle;\n",
       "    }\n",
       "\n",
       "    .dataframe tbody tr th {\n",
       "        vertical-align: top;\n",
       "    }\n",
       "\n",
       "    .dataframe thead th {\n",
       "        text-align: right;\n",
       "    }\n",
       "</style>\n",
       "<table border=\"1\" class=\"dataframe\">\n",
       "  <thead>\n",
       "    <tr style=\"text-align: right;\">\n",
       "      <th></th>\n",
       "      <th>Quantidade</th>\n",
       "    </tr>\n",
       "    <tr>\n",
       "      <th>Data</th>\n",
       "      <th></th>\n",
       "    </tr>\n",
       "  </thead>\n",
       "  <tbody>\n",
       "    <tr>\n",
       "      <th>1-Apr-14</th>\n",
       "      <td>34</td>\n",
       "    </tr>\n",
       "    <tr>\n",
       "      <th>1-Apr-15</th>\n",
       "      <td>37</td>\n",
       "    </tr>\n",
       "    <tr>\n",
       "      <th>1-Aug-14</th>\n",
       "      <td>45</td>\n",
       "    </tr>\n",
       "    <tr>\n",
       "      <th>1-Dec-13</th>\n",
       "      <td>40</td>\n",
       "    </tr>\n",
       "    <tr>\n",
       "      <th>1-Dec-14</th>\n",
       "      <td>41</td>\n",
       "    </tr>\n",
       "    <tr>\n",
       "      <th>...</th>\n",
       "      <td>...</td>\n",
       "    </tr>\n",
       "    <tr>\n",
       "      <th>9-Nov-13</th>\n",
       "      <td>37</td>\n",
       "    </tr>\n",
       "    <tr>\n",
       "      <th>9-Nov-14</th>\n",
       "      <td>58</td>\n",
       "    </tr>\n",
       "    <tr>\n",
       "      <th>9-Oct-13</th>\n",
       "      <td>58</td>\n",
       "    </tr>\n",
       "    <tr>\n",
       "      <th>9-Oct-14</th>\n",
       "      <td>44</td>\n",
       "    </tr>\n",
       "    <tr>\n",
       "      <th>9-Sep-14</th>\n",
       "      <td>45</td>\n",
       "    </tr>\n",
       "  </tbody>\n",
       "</table>\n",
       "<p>600 rows × 1 columns</p>\n",
       "</div>"
      ],
      "text/plain": [
       "          Quantidade\n",
       "Data                \n",
       "1-Apr-14          34\n",
       "1-Apr-15          37\n",
       "1-Aug-14          45\n",
       "1-Dec-13          40\n",
       "1-Dec-14          41\n",
       "...              ...\n",
       "9-Nov-13          37\n",
       "9-Nov-14          58\n",
       "9-Oct-13          58\n",
       "9-Oct-14          44\n",
       "9-Sep-14          45\n",
       "\n",
       "[600 rows x 1 columns]"
      ]
     },
     "execution_count": 55,
     "metadata": {},
     "output_type": "execute_result"
    }
   ],
   "source": [
    "tabela.filter(items=['Data', 'Quantidade']).groupby('Data').count()"
   ]
  },
  {
   "cell_type": "code",
   "execution_count": 102,
   "id": "16c423e7",
   "metadata": {},
   "outputs": [
    {
     "data": {
      "text/html": [
       "<div>\n",
       "<style scoped>\n",
       "    .dataframe tbody tr th:only-of-type {\n",
       "        vertical-align: middle;\n",
       "    }\n",
       "\n",
       "    .dataframe tbody tr th {\n",
       "        vertical-align: top;\n",
       "    }\n",
       "\n",
       "    .dataframe thead th {\n",
       "        text-align: right;\n",
       "    }\n",
       "</style>\n",
       "<table border=\"1\" class=\"dataframe\">\n",
       "  <thead>\n",
       "    <tr style=\"text-align: right;\">\n",
       "      <th></th>\n",
       "      <th>Quantidade</th>\n",
       "    </tr>\n",
       "  </thead>\n",
       "  <tbody>\n",
       "    <tr>\n",
       "      <th>count</th>\n",
       "      <td>600.000000</td>\n",
       "    </tr>\n",
       "    <tr>\n",
       "      <th>mean</th>\n",
       "      <td>43.420000</td>\n",
       "    </tr>\n",
       "    <tr>\n",
       "      <th>std</th>\n",
       "      <td>6.794154</td>\n",
       "    </tr>\n",
       "    <tr>\n",
       "      <th>min</th>\n",
       "      <td>23.000000</td>\n",
       "    </tr>\n",
       "    <tr>\n",
       "      <th>25%</th>\n",
       "      <td>39.000000</td>\n",
       "    </tr>\n",
       "    <tr>\n",
       "      <th>50%</th>\n",
       "      <td>43.000000</td>\n",
       "    </tr>\n",
       "    <tr>\n",
       "      <th>75%</th>\n",
       "      <td>48.000000</td>\n",
       "    </tr>\n",
       "    <tr>\n",
       "      <th>max</th>\n",
       "      <td>65.000000</td>\n",
       "    </tr>\n",
       "  </tbody>\n",
       "</table>\n",
       "</div>"
      ],
      "text/plain": [
       "       Quantidade\n",
       "count  600.000000\n",
       "mean    43.420000\n",
       "std      6.794154\n",
       "min     23.000000\n",
       "25%     39.000000\n",
       "50%     43.000000\n",
       "75%     48.000000\n",
       "max     65.000000"
      ]
     },
     "execution_count": 102,
     "metadata": {},
     "output_type": "execute_result"
    }
   ],
   "source": [
    "# Pegar medias sobre as datas.\n",
    "quantidade_datas = tabela.filter(items=['Data', 'Quantidade']).groupby('Data').count()\n",
    "quantidade_datas.describe()"
   ]
  },
  {
   "cell_type": "markdown",
   "id": "d2d7ba37",
   "metadata": {},
   "source": [
    "## **Conclusão:**\n",
    "\n",
    " Através do arquivo citado anteriormente, foi possível identificar relevâncias no uso de cartões de crédito na India e ao longo da análise conseguimos responder algumas perguntas.\n",
    " \n",
    "- Foi possivel fazer o tratamento dos daods e analisar que não possui itens duplicados e valores ausentes.\n",
    "\n",
    "- Com base nos dados foi possivel ver que entre os usuários **52,51%** eram **Mulheres** e **47,48%** eram **Homens**, sendo o tipo de cartão com mais usuários o **Silver**.\n",
    "    \n",
    "- Enquanto mulheres tiveram mais gastos com **Comidas**, os homens gastaram mais com **Combustivel**.\n",
    "     \n",
    "- O dia que teve mais pessoas utilizando seus cartões, foi de 65 pessoas. Enquanto o que teve menos, foram de 23 pessoas. Obtendo uma média de 43 usuários por dia.\n",
    "    \n",
    "- Pode se concluir que mulheres gastam mais que homens mesmo não tendo uma grande diferença entre a quantidade de homens e mulheres que utilizam o cartão de crédito.\n",
    "\n"
   ]
  }
 ],
 "metadata": {
  "kernelspec": {
   "display_name": "Python 3 (ipykernel)",
   "language": "python",
   "name": "python3"
  },
  "language_info": {
   "codemirror_mode": {
    "name": "ipython",
    "version": 3
   },
   "file_extension": ".py",
   "mimetype": "text/x-python",
   "name": "python",
   "nbconvert_exporter": "python",
   "pygments_lexer": "ipython3",
   "version": "3.9.13"
  }
 },
 "nbformat": 4,
 "nbformat_minor": 5
}
